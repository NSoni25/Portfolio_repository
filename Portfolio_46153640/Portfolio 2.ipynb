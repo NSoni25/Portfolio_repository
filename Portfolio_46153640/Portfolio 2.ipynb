{
 "cells": [
  {
   "cell_type": "markdown",
   "metadata": {},
   "source": [
    "# Analysing COVID-19 Data\n",
    "\n",
    "The portfolio is all about to analyse the global spread of COVID-19 for the countries in the world.There are number of  open dataset and stories available that show the exponential increase of covid-19 cases for the countries.\n",
    "\n",
    "Here are some sample stories for reference:\n",
    "\n",
    "* [From the ABC](https://www.abc.net.au/news/2020-03-26/coronavirus-covid19-global-spread-data-explained/12089028)\n",
    "* [From the Guardian](https://www.theguardian.com/australia-news/datablog/ng-interactive/2020/apr/06/coronavirus-cases-in-australia-map-curve-confirmed-numbers-stats-how-many-covid-19-nsw-by-postcode-maps-victoria-live-data-qld-sa-wa-tas-nt-act-latest-statistics)\n",
    "* [Coronavirus in Australia](https://www.covid19data.com.au/)\n",
    "* [ArcGIS Dashboard](https://www.arcgis.com/apps/opsdashboard/index.html#/bda7594740fd40299423467b48e9ecf6) Johns Hopkins\n",
    "\n",
    "We willuse the dataset of any of the above stories for our analysis.Our aim is to select those dataset that is updating regularly so that we can see the exponential increase in the cases for each counrty\n"
   ]
  },
  {
   "cell_type": "code",
   "execution_count": 1,
   "metadata": {},
   "outputs": [],
   "source": [
    "import pandas as pd\n",
    "import numpy as np\n",
    "import seaborn as sns\n",
    "import matplotlib.pyplot as plt\n",
    "from sklearn.linear_model import LinearRegression\n",
    "\n",
    "%matplotlib inline"
   ]
  },
  {
   "cell_type": "markdown",
   "metadata": {},
   "source": [
    "## Getting the Data\n",
    "\n",
    "We will be using the dataset of Johns Hopkins University.We will only extracting the global confirmed cases dataset from the repository and do our analysis on it.\n",
    "\n",
    "We can either download a copy of the data into your project or just read it from the URL. The advantage of reading the URL is that we will get live updates, but this can make our analysis harder as the data changes daily.Also, we would be making new requests for data every time we ran our worksheet, this will put load on the server."
   ]
  },
  {
   "cell_type": "code",
   "execution_count": 2,
   "metadata": {},
   "outputs": [],
   "source": [
    "# load the live dataset, assumes a working network connection\n",
    "covid_data_url = 'https://github.com/CSSEGISandData/COVID-19/raw/master/csse_covid_19_data/csse_covid_19_time_series/time_series_covid19_confirmed_global.csv'\n",
    "covid = pd.read_csv(covid_data_url)"
   ]
  },
  {
   "cell_type": "code",
   "execution_count": 3,
   "metadata": {},
   "outputs": [
    {
     "data": {
      "text/html": [
       "<div>\n",
       "<style scoped>\n",
       "    .dataframe tbody tr th:only-of-type {\n",
       "        vertical-align: middle;\n",
       "    }\n",
       "\n",
       "    .dataframe tbody tr th {\n",
       "        vertical-align: top;\n",
       "    }\n",
       "\n",
       "    .dataframe thead th {\n",
       "        text-align: right;\n",
       "    }\n",
       "</style>\n",
       "<table border=\"1\" class=\"dataframe\">\n",
       "  <thead>\n",
       "    <tr style=\"text-align: right;\">\n",
       "      <th></th>\n",
       "      <th>Province/State</th>\n",
       "      <th>Country/Region</th>\n",
       "      <th>Lat</th>\n",
       "      <th>Long</th>\n",
       "      <th>1/22/20</th>\n",
       "      <th>1/23/20</th>\n",
       "      <th>1/24/20</th>\n",
       "      <th>1/25/20</th>\n",
       "      <th>1/26/20</th>\n",
       "      <th>1/27/20</th>\n",
       "      <th>...</th>\n",
       "      <th>5/14/20</th>\n",
       "      <th>5/15/20</th>\n",
       "      <th>5/16/20</th>\n",
       "      <th>5/17/20</th>\n",
       "      <th>5/18/20</th>\n",
       "      <th>5/19/20</th>\n",
       "      <th>5/20/20</th>\n",
       "      <th>5/21/20</th>\n",
       "      <th>5/22/20</th>\n",
       "      <th>5/23/20</th>\n",
       "    </tr>\n",
       "  </thead>\n",
       "  <tbody>\n",
       "    <tr>\n",
       "      <th>0</th>\n",
       "      <td>NaN</td>\n",
       "      <td>Afghanistan</td>\n",
       "      <td>33.0000</td>\n",
       "      <td>65.0000</td>\n",
       "      <td>0</td>\n",
       "      <td>0</td>\n",
       "      <td>0</td>\n",
       "      <td>0</td>\n",
       "      <td>0</td>\n",
       "      <td>0</td>\n",
       "      <td>...</td>\n",
       "      <td>5639</td>\n",
       "      <td>6053</td>\n",
       "      <td>6402</td>\n",
       "      <td>6664</td>\n",
       "      <td>7072</td>\n",
       "      <td>7653</td>\n",
       "      <td>8145</td>\n",
       "      <td>8676</td>\n",
       "      <td>9216</td>\n",
       "      <td>9998</td>\n",
       "    </tr>\n",
       "    <tr>\n",
       "      <th>1</th>\n",
       "      <td>NaN</td>\n",
       "      <td>Albania</td>\n",
       "      <td>41.1533</td>\n",
       "      <td>20.1683</td>\n",
       "      <td>0</td>\n",
       "      <td>0</td>\n",
       "      <td>0</td>\n",
       "      <td>0</td>\n",
       "      <td>0</td>\n",
       "      <td>0</td>\n",
       "      <td>...</td>\n",
       "      <td>898</td>\n",
       "      <td>916</td>\n",
       "      <td>933</td>\n",
       "      <td>946</td>\n",
       "      <td>948</td>\n",
       "      <td>949</td>\n",
       "      <td>964</td>\n",
       "      <td>969</td>\n",
       "      <td>981</td>\n",
       "      <td>989</td>\n",
       "    </tr>\n",
       "    <tr>\n",
       "      <th>2</th>\n",
       "      <td>NaN</td>\n",
       "      <td>Algeria</td>\n",
       "      <td>28.0339</td>\n",
       "      <td>1.6596</td>\n",
       "      <td>0</td>\n",
       "      <td>0</td>\n",
       "      <td>0</td>\n",
       "      <td>0</td>\n",
       "      <td>0</td>\n",
       "      <td>0</td>\n",
       "      <td>...</td>\n",
       "      <td>6442</td>\n",
       "      <td>6629</td>\n",
       "      <td>6821</td>\n",
       "      <td>7019</td>\n",
       "      <td>7201</td>\n",
       "      <td>7377</td>\n",
       "      <td>7542</td>\n",
       "      <td>7728</td>\n",
       "      <td>7918</td>\n",
       "      <td>8113</td>\n",
       "    </tr>\n",
       "    <tr>\n",
       "      <th>3</th>\n",
       "      <td>NaN</td>\n",
       "      <td>Andorra</td>\n",
       "      <td>42.5063</td>\n",
       "      <td>1.5218</td>\n",
       "      <td>0</td>\n",
       "      <td>0</td>\n",
       "      <td>0</td>\n",
       "      <td>0</td>\n",
       "      <td>0</td>\n",
       "      <td>0</td>\n",
       "      <td>...</td>\n",
       "      <td>761</td>\n",
       "      <td>761</td>\n",
       "      <td>761</td>\n",
       "      <td>761</td>\n",
       "      <td>761</td>\n",
       "      <td>761</td>\n",
       "      <td>762</td>\n",
       "      <td>762</td>\n",
       "      <td>762</td>\n",
       "      <td>762</td>\n",
       "    </tr>\n",
       "    <tr>\n",
       "      <th>4</th>\n",
       "      <td>NaN</td>\n",
       "      <td>Angola</td>\n",
       "      <td>-11.2027</td>\n",
       "      <td>17.8739</td>\n",
       "      <td>0</td>\n",
       "      <td>0</td>\n",
       "      <td>0</td>\n",
       "      <td>0</td>\n",
       "      <td>0</td>\n",
       "      <td>0</td>\n",
       "      <td>...</td>\n",
       "      <td>48</td>\n",
       "      <td>48</td>\n",
       "      <td>48</td>\n",
       "      <td>48</td>\n",
       "      <td>50</td>\n",
       "      <td>52</td>\n",
       "      <td>52</td>\n",
       "      <td>58</td>\n",
       "      <td>60</td>\n",
       "      <td>61</td>\n",
       "    </tr>\n",
       "  </tbody>\n",
       "</table>\n",
       "<p>5 rows × 127 columns</p>\n",
       "</div>"
      ],
      "text/plain": [
       "  Province/State Country/Region      Lat     Long  1/22/20  1/23/20  1/24/20  \\\n",
       "0            NaN    Afghanistan  33.0000  65.0000        0        0        0   \n",
       "1            NaN        Albania  41.1533  20.1683        0        0        0   \n",
       "2            NaN        Algeria  28.0339   1.6596        0        0        0   \n",
       "3            NaN        Andorra  42.5063   1.5218        0        0        0   \n",
       "4            NaN         Angola -11.2027  17.8739        0        0        0   \n",
       "\n",
       "   1/25/20  1/26/20  1/27/20  ...  5/14/20  5/15/20  5/16/20  5/17/20  \\\n",
       "0        0        0        0  ...     5639     6053     6402     6664   \n",
       "1        0        0        0  ...      898      916      933      946   \n",
       "2        0        0        0  ...     6442     6629     6821     7019   \n",
       "3        0        0        0  ...      761      761      761      761   \n",
       "4        0        0        0  ...       48       48       48       48   \n",
       "\n",
       "   5/18/20  5/19/20  5/20/20  5/21/20  5/22/20  5/23/20  \n",
       "0     7072     7653     8145     8676     9216     9998  \n",
       "1      948      949      964      969      981      989  \n",
       "2     7201     7377     7542     7728     7918     8113  \n",
       "3      761      761      762      762      762      762  \n",
       "4       50       52       52       58       60       61  \n",
       "\n",
       "[5 rows x 127 columns]"
      ]
     },
     "execution_count": 3,
     "metadata": {},
     "output_type": "execute_result"
    }
   ],
   "source": [
    "covid.head()"
   ]
  },
  {
   "cell_type": "markdown",
   "metadata": {},
   "source": [
    "## Explore the Data\n",
    "For the analysis we want the data to be summarize on countries based.The information we get from the dataset are territorywise or state wise, so our first operation is to combine all of the rows for countries that are split into states. We then drop the non-numeric columns, so that we left  just with the number of cases on each day for each country and store this new dataframe."
   ]
  },
  {
   "cell_type": "code",
   "execution_count": 4,
   "metadata": {},
   "outputs": [
    {
     "data": {
      "text/html": [
       "<div>\n",
       "<style scoped>\n",
       "    .dataframe tbody tr th:only-of-type {\n",
       "        vertical-align: middle;\n",
       "    }\n",
       "\n",
       "    .dataframe tbody tr th {\n",
       "        vertical-align: top;\n",
       "    }\n",
       "\n",
       "    .dataframe thead th {\n",
       "        text-align: right;\n",
       "    }\n",
       "</style>\n",
       "<table border=\"1\" class=\"dataframe\">\n",
       "  <thead>\n",
       "    <tr style=\"text-align: right;\">\n",
       "      <th></th>\n",
       "      <th>1/22/20</th>\n",
       "      <th>1/23/20</th>\n",
       "      <th>1/24/20</th>\n",
       "      <th>1/25/20</th>\n",
       "      <th>1/26/20</th>\n",
       "      <th>1/27/20</th>\n",
       "      <th>1/28/20</th>\n",
       "      <th>1/29/20</th>\n",
       "      <th>1/30/20</th>\n",
       "      <th>1/31/20</th>\n",
       "      <th>...</th>\n",
       "      <th>5/14/20</th>\n",
       "      <th>5/15/20</th>\n",
       "      <th>5/16/20</th>\n",
       "      <th>5/17/20</th>\n",
       "      <th>5/18/20</th>\n",
       "      <th>5/19/20</th>\n",
       "      <th>5/20/20</th>\n",
       "      <th>5/21/20</th>\n",
       "      <th>5/22/20</th>\n",
       "      <th>5/23/20</th>\n",
       "    </tr>\n",
       "    <tr>\n",
       "      <th>Country/Region</th>\n",
       "      <th></th>\n",
       "      <th></th>\n",
       "      <th></th>\n",
       "      <th></th>\n",
       "      <th></th>\n",
       "      <th></th>\n",
       "      <th></th>\n",
       "      <th></th>\n",
       "      <th></th>\n",
       "      <th></th>\n",
       "      <th></th>\n",
       "      <th></th>\n",
       "      <th></th>\n",
       "      <th></th>\n",
       "      <th></th>\n",
       "      <th></th>\n",
       "      <th></th>\n",
       "      <th></th>\n",
       "      <th></th>\n",
       "      <th></th>\n",
       "      <th></th>\n",
       "    </tr>\n",
       "  </thead>\n",
       "  <tbody>\n",
       "    <tr>\n",
       "      <th>Afghanistan</th>\n",
       "      <td>0</td>\n",
       "      <td>0</td>\n",
       "      <td>0</td>\n",
       "      <td>0</td>\n",
       "      <td>0</td>\n",
       "      <td>0</td>\n",
       "      <td>0</td>\n",
       "      <td>0</td>\n",
       "      <td>0</td>\n",
       "      <td>0</td>\n",
       "      <td>...</td>\n",
       "      <td>5639</td>\n",
       "      <td>6053</td>\n",
       "      <td>6402</td>\n",
       "      <td>6664</td>\n",
       "      <td>7072</td>\n",
       "      <td>7653</td>\n",
       "      <td>8145</td>\n",
       "      <td>8676</td>\n",
       "      <td>9216</td>\n",
       "      <td>9998</td>\n",
       "    </tr>\n",
       "    <tr>\n",
       "      <th>Albania</th>\n",
       "      <td>0</td>\n",
       "      <td>0</td>\n",
       "      <td>0</td>\n",
       "      <td>0</td>\n",
       "      <td>0</td>\n",
       "      <td>0</td>\n",
       "      <td>0</td>\n",
       "      <td>0</td>\n",
       "      <td>0</td>\n",
       "      <td>0</td>\n",
       "      <td>...</td>\n",
       "      <td>898</td>\n",
       "      <td>916</td>\n",
       "      <td>933</td>\n",
       "      <td>946</td>\n",
       "      <td>948</td>\n",
       "      <td>949</td>\n",
       "      <td>964</td>\n",
       "      <td>969</td>\n",
       "      <td>981</td>\n",
       "      <td>989</td>\n",
       "    </tr>\n",
       "    <tr>\n",
       "      <th>Algeria</th>\n",
       "      <td>0</td>\n",
       "      <td>0</td>\n",
       "      <td>0</td>\n",
       "      <td>0</td>\n",
       "      <td>0</td>\n",
       "      <td>0</td>\n",
       "      <td>0</td>\n",
       "      <td>0</td>\n",
       "      <td>0</td>\n",
       "      <td>0</td>\n",
       "      <td>...</td>\n",
       "      <td>6442</td>\n",
       "      <td>6629</td>\n",
       "      <td>6821</td>\n",
       "      <td>7019</td>\n",
       "      <td>7201</td>\n",
       "      <td>7377</td>\n",
       "      <td>7542</td>\n",
       "      <td>7728</td>\n",
       "      <td>7918</td>\n",
       "      <td>8113</td>\n",
       "    </tr>\n",
       "    <tr>\n",
       "      <th>Andorra</th>\n",
       "      <td>0</td>\n",
       "      <td>0</td>\n",
       "      <td>0</td>\n",
       "      <td>0</td>\n",
       "      <td>0</td>\n",
       "      <td>0</td>\n",
       "      <td>0</td>\n",
       "      <td>0</td>\n",
       "      <td>0</td>\n",
       "      <td>0</td>\n",
       "      <td>...</td>\n",
       "      <td>761</td>\n",
       "      <td>761</td>\n",
       "      <td>761</td>\n",
       "      <td>761</td>\n",
       "      <td>761</td>\n",
       "      <td>761</td>\n",
       "      <td>762</td>\n",
       "      <td>762</td>\n",
       "      <td>762</td>\n",
       "      <td>762</td>\n",
       "    </tr>\n",
       "    <tr>\n",
       "      <th>Angola</th>\n",
       "      <td>0</td>\n",
       "      <td>0</td>\n",
       "      <td>0</td>\n",
       "      <td>0</td>\n",
       "      <td>0</td>\n",
       "      <td>0</td>\n",
       "      <td>0</td>\n",
       "      <td>0</td>\n",
       "      <td>0</td>\n",
       "      <td>0</td>\n",
       "      <td>...</td>\n",
       "      <td>48</td>\n",
       "      <td>48</td>\n",
       "      <td>48</td>\n",
       "      <td>48</td>\n",
       "      <td>50</td>\n",
       "      <td>52</td>\n",
       "      <td>52</td>\n",
       "      <td>58</td>\n",
       "      <td>60</td>\n",
       "      <td>61</td>\n",
       "    </tr>\n",
       "  </tbody>\n",
       "</table>\n",
       "<p>5 rows × 123 columns</p>\n",
       "</div>"
      ],
      "text/plain": [
       "                1/22/20  1/23/20  1/24/20  1/25/20  1/26/20  1/27/20  1/28/20  \\\n",
       "Country/Region                                                                  \n",
       "Afghanistan           0        0        0        0        0        0        0   \n",
       "Albania               0        0        0        0        0        0        0   \n",
       "Algeria               0        0        0        0        0        0        0   \n",
       "Andorra               0        0        0        0        0        0        0   \n",
       "Angola                0        0        0        0        0        0        0   \n",
       "\n",
       "                1/29/20  1/30/20  1/31/20  ...  5/14/20  5/15/20  5/16/20  \\\n",
       "Country/Region                             ...                              \n",
       "Afghanistan           0        0        0  ...     5639     6053     6402   \n",
       "Albania               0        0        0  ...      898      916      933   \n",
       "Algeria               0        0        0  ...     6442     6629     6821   \n",
       "Andorra               0        0        0  ...      761      761      761   \n",
       "Angola                0        0        0  ...       48       48       48   \n",
       "\n",
       "                5/17/20  5/18/20  5/19/20  5/20/20  5/21/20  5/22/20  5/23/20  \n",
       "Country/Region                                                                 \n",
       "Afghanistan        6664     7072     7653     8145     8676     9216     9998  \n",
       "Albania             946      948      949      964      969      981      989  \n",
       "Algeria            7019     7201     7377     7542     7728     7918     8113  \n",
       "Andorra             761      761      761      762      762      762      762  \n",
       "Angola               48       50       52       52       58       60       61  \n",
       "\n",
       "[5 rows x 123 columns]"
      ]
     },
     "execution_count": 4,
     "metadata": {},
     "output_type": "execute_result"
    }
   ],
   "source": [
    "grouped = covid.groupby('Country/Region').sum()\n",
    "grouped = grouped.drop(columns=['Lat', 'Long'])\n",
    "\n",
    "grouped.head()"
   ]
  },
  {
   "cell_type": "markdown",
   "metadata": {},
   "source": [
    "Since the new dataframe will have the grouped values.So, our first task is to analyse the data for one country and plot it.We can see the exponential rise in numbers of cases over time."
   ]
  },
  {
   "cell_type": "code",
   "execution_count": 5,
   "metadata": {},
   "outputs": [
    {
     "data": {
      "text/html": [
       "<div>\n",
       "<style scoped>\n",
       "    .dataframe tbody tr th:only-of-type {\n",
       "        vertical-align: middle;\n",
       "    }\n",
       "\n",
       "    .dataframe tbody tr th {\n",
       "        vertical-align: top;\n",
       "    }\n",
       "\n",
       "    .dataframe thead th {\n",
       "        text-align: right;\n",
       "    }\n",
       "</style>\n",
       "<table border=\"1\" class=\"dataframe\">\n",
       "  <thead>\n",
       "    <tr style=\"text-align: right;\">\n",
       "      <th>Country/Region</th>\n",
       "      <th>Cases</th>\n",
       "    </tr>\n",
       "  </thead>\n",
       "  <tbody>\n",
       "    <tr>\n",
       "      <th>1/22/20</th>\n",
       "      <td>0</td>\n",
       "    </tr>\n",
       "    <tr>\n",
       "      <th>1/23/20</th>\n",
       "      <td>0</td>\n",
       "    </tr>\n",
       "    <tr>\n",
       "      <th>1/24/20</th>\n",
       "      <td>0</td>\n",
       "    </tr>\n",
       "    <tr>\n",
       "      <th>1/25/20</th>\n",
       "      <td>0</td>\n",
       "    </tr>\n",
       "    <tr>\n",
       "      <th>1/26/20</th>\n",
       "      <td>0</td>\n",
       "    </tr>\n",
       "  </tbody>\n",
       "</table>\n",
       "</div>"
      ],
      "text/plain": [
       "Country/Region  Cases\n",
       "1/22/20             0\n",
       "1/23/20             0\n",
       "1/24/20             0\n",
       "1/25/20             0\n",
       "1/26/20             0"
      ]
     },
     "execution_count": 5,
     "metadata": {},
     "output_type": "execute_result"
    }
   ],
   "source": [
    "df=grouped.loc[['India']].T\n",
    "df_rename=df.rename(columns={\"India\":'Cases'})\n",
    "df_rename.head()"
   ]
  },
  {
   "cell_type": "code",
   "execution_count": 6,
   "metadata": {},
   "outputs": [
    {
     "data": {
      "image/png": "[encoded data removed]",
      "text/plain": [
       "<Figure size 432x288 with 1 Axes>"
      ]
     },
     "metadata": {
      "needs_background": "light"
     },
     "output_type": "display_data"
    }
   ],
   "source": [
    "df_rename.plot()\n",
    "plt.show()"
   ]
  },
  {
   "cell_type": "markdown",
   "metadata": {},
   "source": [
    "I have locate the data for \"India\" by using the loc method and uses line graph to plot the cases for India,x-axis in the graph represent the date and y-axis represent the total number of cases.We can see that earlier India has least number of cases but as time increases the cases get increases and now it has crosses the value of 100k "
   ]
  },
  {
   "cell_type": "markdown",
   "metadata": {},
   "source": [
    "## Comparing Countries\n",
    "\n",
    "One of the classic displays in the news is the comparison between countries.We will implement the same thing by selecting a suitable number of countries and plot their data on the same graph to reproduce this visualisation.We should those countries that  would  have significant outbreaks for e.g. China, USA, Italy, UK, Australia. "
   ]
  },
  {
   "cell_type": "code",
   "execution_count": 7,
   "metadata": {},
   "outputs": [],
   "source": [
    "grp_plt=grouped.loc[[\"Australia\",\"China\",\"Italy\",\"US\",\"United Kingdom\"]]\n",
    "grp=grp_plt.T"
   ]
  },
  {
   "cell_type": "code",
   "execution_count": 8,
   "metadata": {},
   "outputs": [
    {
     "data": {
      "image/png": "[encoded data removed]",
      "text/plain": [
       "<Figure size 432x288 with 1 Axes>"
      ]
     },
     "metadata": {
      "needs_background": "light"
     },
     "output_type": "display_data"
    }
   ],
   "source": [
    "grp.plot()\n",
    "plt.show()"
   ]
  },
  {
   "cell_type": "markdown",
   "metadata": {},
   "source": [
    "We have selected these 5 countries \"Australia\",\"China\",\"Italy\",\"US\",\"United Kingdom\" as they have large number of difference in the coronavirus cases.Again, we have plot the line graph to see the increase in the number of covid cases among these countries.Each country represent by different color of line.\n",
    "\n",
    "1)It is clearly visible that red line represent most number of cases, red line is represented by \"US\".So, it can be easily  interpretated that US has most number of coronavirus cases among these countries and it is increasing rapidly.\n",
    "\n",
    "2)Blue line has least number of cases among these countries, blue line is represented by \"Australia\".So, it can be stated that\n",
    "Australia has least number of cases and it is also visible that Australia do not have have any new coronavirus cases among\n",
    "there people as the line is constant in the graph\n",
    "\n",
    "3)\"Italy\" and \"United Kingdom\"have comparatively same number of cases,Green and purple lines are used to represent \"Italy\" and \"United Kingdom\".\n",
    "\n",
    "4)China is represented by orange line, it can be seen that China has first maximum number of cases but now they have control it to some extent and they have do not have new cases today"
   ]
  },
  {
   "cell_type": "markdown",
   "metadata": {},
   "source": [
    "Another important visualisation is to shows the data for different countries aligned from the time that they have 100 confirmed cases.To create this figure, we need to take only that part of each time series whose value is greater than or equal to 100 and then plot this on the graph starting at 0 on the x-axis."
   ]
  },
  {
   "cell_type": "code",
   "execution_count": 9,
   "metadata": {},
   "outputs": [
    {
     "data": {
      "text/html": [
       "<div>\n",
       "<style scoped>\n",
       "    .dataframe tbody tr th:only-of-type {\n",
       "        vertical-align: middle;\n",
       "    }\n",
       "\n",
       "    .dataframe tbody tr th {\n",
       "        vertical-align: top;\n",
       "    }\n",
       "\n",
       "    .dataframe thead th {\n",
       "        text-align: right;\n",
       "    }\n",
       "</style>\n",
       "<table border=\"1\" class=\"dataframe\">\n",
       "  <thead>\n",
       "    <tr style=\"text-align: right;\">\n",
       "      <th>Country/Region</th>\n",
       "      <th>Australia</th>\n",
       "      <th>China</th>\n",
       "      <th>Italy</th>\n",
       "      <th>US</th>\n",
       "      <th>United Kingdom</th>\n",
       "    </tr>\n",
       "  </thead>\n",
       "  <tbody>\n",
       "    <tr>\n",
       "      <th>1/22/20</th>\n",
       "      <td>NaN</td>\n",
       "      <td>548</td>\n",
       "      <td>NaN</td>\n",
       "      <td>NaN</td>\n",
       "      <td>NaN</td>\n",
       "    </tr>\n",
       "    <tr>\n",
       "      <th>1/23/20</th>\n",
       "      <td>NaN</td>\n",
       "      <td>643</td>\n",
       "      <td>NaN</td>\n",
       "      <td>NaN</td>\n",
       "      <td>NaN</td>\n",
       "    </tr>\n",
       "    <tr>\n",
       "      <th>1/24/20</th>\n",
       "      <td>NaN</td>\n",
       "      <td>920</td>\n",
       "      <td>NaN</td>\n",
       "      <td>NaN</td>\n",
       "      <td>NaN</td>\n",
       "    </tr>\n",
       "    <tr>\n",
       "      <th>1/25/20</th>\n",
       "      <td>NaN</td>\n",
       "      <td>1406</td>\n",
       "      <td>NaN</td>\n",
       "      <td>NaN</td>\n",
       "      <td>NaN</td>\n",
       "    </tr>\n",
       "    <tr>\n",
       "      <th>1/26/20</th>\n",
       "      <td>NaN</td>\n",
       "      <td>2075</td>\n",
       "      <td>NaN</td>\n",
       "      <td>NaN</td>\n",
       "      <td>NaN</td>\n",
       "    </tr>\n",
       "    <tr>\n",
       "      <th>...</th>\n",
       "      <td>...</td>\n",
       "      <td>...</td>\n",
       "      <td>...</td>\n",
       "      <td>...</td>\n",
       "      <td>...</td>\n",
       "    </tr>\n",
       "    <tr>\n",
       "      <th>5/19/20</th>\n",
       "      <td>7072.0</td>\n",
       "      <td>84063</td>\n",
       "      <td>226699.0</td>\n",
       "      <td>1528568.0</td>\n",
       "      <td>250138.0</td>\n",
       "    </tr>\n",
       "    <tr>\n",
       "      <th>5/20/20</th>\n",
       "      <td>7081.0</td>\n",
       "      <td>84063</td>\n",
       "      <td>227364.0</td>\n",
       "      <td>1551853.0</td>\n",
       "      <td>249619.0</td>\n",
       "    </tr>\n",
       "    <tr>\n",
       "      <th>5/21/20</th>\n",
       "      <td>7095.0</td>\n",
       "      <td>84063</td>\n",
       "      <td>228006.0</td>\n",
       "      <td>1577147.0</td>\n",
       "      <td>252246.0</td>\n",
       "    </tr>\n",
       "    <tr>\n",
       "      <th>5/22/20</th>\n",
       "      <td>7099.0</td>\n",
       "      <td>84081</td>\n",
       "      <td>228658.0</td>\n",
       "      <td>1600937.0</td>\n",
       "      <td>255544.0</td>\n",
       "    </tr>\n",
       "    <tr>\n",
       "      <th>5/23/20</th>\n",
       "      <td>7114.0</td>\n",
       "      <td>84084</td>\n",
       "      <td>229327.0</td>\n",
       "      <td>1622612.0</td>\n",
       "      <td>258504.0</td>\n",
       "    </tr>\n",
       "  </tbody>\n",
       "</table>\n",
       "<p>123 rows × 5 columns</p>\n",
       "</div>"
      ],
      "text/plain": [
       "Country/Region  Australia  China     Italy         US  United Kingdom\n",
       "1/22/20               NaN    548       NaN        NaN             NaN\n",
       "1/23/20               NaN    643       NaN        NaN             NaN\n",
       "1/24/20               NaN    920       NaN        NaN             NaN\n",
       "1/25/20               NaN   1406       NaN        NaN             NaN\n",
       "1/26/20               NaN   2075       NaN        NaN             NaN\n",
       "...                   ...    ...       ...        ...             ...\n",
       "5/19/20            7072.0  84063  226699.0  1528568.0        250138.0\n",
       "5/20/20            7081.0  84063  227364.0  1551853.0        249619.0\n",
       "5/21/20            7095.0  84063  228006.0  1577147.0        252246.0\n",
       "5/22/20            7099.0  84081  228658.0  1600937.0        255544.0\n",
       "5/23/20            7114.0  84084  229327.0  1622612.0        258504.0\n",
       "\n",
       "[123 rows x 5 columns]"
      ]
     },
     "execution_count": 9,
     "metadata": {},
     "output_type": "execute_result"
    }
   ],
   "source": [
    "#selecting some countries that has significance difference in there covid cases\n",
    "grp_plt=grouped.loc[['Australia','China','Italy','US','United Kingdom']]\n",
    "grp_plt=grp_plt.T\n",
    "#Extracting values greater than 100 from each time.\n",
    "grp=grp_plt[grp_plt.iloc[:,0:5]>= 100]\n",
    "grp"
   ]
  },
  {
   "cell_type": "code",
   "execution_count": 10,
   "metadata": {},
   "outputs": [
    {
     "data": {
      "image/png": "[encoded data removed]",
      "text/plain": [
       "<Figure size 432x288 with 1 Axes>"
      ]
     },
     "metadata": {
      "needs_background": "light"
     },
     "output_type": "display_data"
    }
   ],
   "source": [
    "grp.plot.line()\n",
    "plt.show()"
   ]
  },
  {
   "cell_type": "markdown",
   "metadata": {},
   "source": [
    "To see this type of visualization, we have selected the above 5 countries \"Australia\",\"China\",\"Italy\",\"US\",\"United Kingdom\".\n",
    "From the graph, The difference between the orange line and the rest of lines clearly indicates that China is the first country that have 100 confirm cases earlier and after that all the other countries US, UK, Italy and Australia has crossed 100 confirm cases, but today China has control there cases but cases in US are increasing constantly."
   ]
  },
  {
   "cell_type": "markdown",
   "metadata": {},
   "source": [
    "## Normalisation by Population\n",
    "\n",
    "We will compare the total population of the country with the number of coronoavirus cases.It would be interesting to see whether the number of cases in China and the US was more per-capita than those in other countries and find which country has the highest number as a proportion of the population.\n",
    "\n",
    "To answer these questions we need population data. We will be using the data from the any of the below dataset:-\n",
    "\n",
    "[datahub.io](https://datahub.io/JohnSnowLabs/population-figures-by-country) \n",
    "\n",
    "[United Nations Population Dynamics page](https://population.un.org/wpp/Download/Standard/CSV/)  \n",
    "\n",
    "We will use the data sets from United Nations Population growth as it can predict the population upto 2100 in csv format. We will compute the number of confirmed cases for each country per million population and  plot the data on the graph to see and  which country has the most cases per million today.\n",
    "\n"
   ]
  },
  {
   "cell_type": "code",
   "execution_count": 11,
   "metadata": {},
   "outputs": [
    {
     "data": {
      "text/html": [
       "<div>\n",
       "<style scoped>\n",
       "    .dataframe tbody tr th:only-of-type {\n",
       "        vertical-align: middle;\n",
       "    }\n",
       "\n",
       "    .dataframe tbody tr th {\n",
       "        vertical-align: top;\n",
       "    }\n",
       "\n",
       "    .dataframe thead th {\n",
       "        text-align: right;\n",
       "    }\n",
       "</style>\n",
       "<table border=\"1\" class=\"dataframe\">\n",
       "  <thead>\n",
       "    <tr style=\"text-align: right;\">\n",
       "      <th></th>\n",
       "      <th>LocID</th>\n",
       "      <th>Location</th>\n",
       "      <th>VarID</th>\n",
       "      <th>Variant</th>\n",
       "      <th>Time</th>\n",
       "      <th>MidPeriod</th>\n",
       "      <th>PopMale</th>\n",
       "      <th>PopFemale</th>\n",
       "      <th>PopTotal</th>\n",
       "      <th>PopDensity</th>\n",
       "    </tr>\n",
       "  </thead>\n",
       "  <tbody>\n",
       "    <tr>\n",
       "      <th>0</th>\n",
       "      <td>4</td>\n",
       "      <td>Afghanistan</td>\n",
       "      <td>2</td>\n",
       "      <td>Medium</td>\n",
       "      <td>1950</td>\n",
       "      <td>1950.5</td>\n",
       "      <td>4099.243</td>\n",
       "      <td>3652.874</td>\n",
       "      <td>7752.117</td>\n",
       "      <td>11.874</td>\n",
       "    </tr>\n",
       "    <tr>\n",
       "      <th>1</th>\n",
       "      <td>4</td>\n",
       "      <td>Afghanistan</td>\n",
       "      <td>2</td>\n",
       "      <td>Medium</td>\n",
       "      <td>1951</td>\n",
       "      <td>1951.5</td>\n",
       "      <td>4134.756</td>\n",
       "      <td>3705.395</td>\n",
       "      <td>7840.151</td>\n",
       "      <td>12.009</td>\n",
       "    </tr>\n",
       "    <tr>\n",
       "      <th>2</th>\n",
       "      <td>4</td>\n",
       "      <td>Afghanistan</td>\n",
       "      <td>2</td>\n",
       "      <td>Medium</td>\n",
       "      <td>1952</td>\n",
       "      <td>1952.5</td>\n",
       "      <td>4174.450</td>\n",
       "      <td>3761.546</td>\n",
       "      <td>7935.996</td>\n",
       "      <td>12.156</td>\n",
       "    </tr>\n",
       "    <tr>\n",
       "      <th>3</th>\n",
       "      <td>4</td>\n",
       "      <td>Afghanistan</td>\n",
       "      <td>2</td>\n",
       "      <td>Medium</td>\n",
       "      <td>1953</td>\n",
       "      <td>1953.5</td>\n",
       "      <td>4218.336</td>\n",
       "      <td>3821.348</td>\n",
       "      <td>8039.684</td>\n",
       "      <td>12.315</td>\n",
       "    </tr>\n",
       "    <tr>\n",
       "      <th>4</th>\n",
       "      <td>4</td>\n",
       "      <td>Afghanistan</td>\n",
       "      <td>2</td>\n",
       "      <td>Medium</td>\n",
       "      <td>1954</td>\n",
       "      <td>1954.5</td>\n",
       "      <td>4266.484</td>\n",
       "      <td>3884.832</td>\n",
       "      <td>8151.316</td>\n",
       "      <td>12.486</td>\n",
       "    </tr>\n",
       "  </tbody>\n",
       "</table>\n",
       "</div>"
      ],
      "text/plain": [
       "   LocID     Location  VarID Variant  Time  MidPeriod   PopMale  PopFemale  \\\n",
       "0      4  Afghanistan      2  Medium  1950     1950.5  4099.243   3652.874   \n",
       "1      4  Afghanistan      2  Medium  1951     1951.5  4134.756   3705.395   \n",
       "2      4  Afghanistan      2  Medium  1952     1952.5  4174.450   3761.546   \n",
       "3      4  Afghanistan      2  Medium  1953     1953.5  4218.336   3821.348   \n",
       "4      4  Afghanistan      2  Medium  1954     1954.5  4266.484   3884.832   \n",
       "\n",
       "   PopTotal  PopDensity  \n",
       "0  7752.117      11.874  \n",
       "1  7840.151      12.009  \n",
       "2  7935.996      12.156  \n",
       "3  8039.684      12.315  \n",
       "4  8151.316      12.486  "
      ]
     },
     "execution_count": 11,
     "metadata": {},
     "output_type": "execute_result"
    }
   ],
   "source": [
    "df_pop=pd.read_csv('data/WPP2019_TotalPopulationBySex.csv')  \n",
    "df_pop.head()"
   ]
  },
  {
   "cell_type": "code",
   "execution_count": 12,
   "metadata": {},
   "outputs": [
    {
     "data": {
      "text/html": [
       "<div>\n",
       "<style scoped>\n",
       "    .dataframe tbody tr th:only-of-type {\n",
       "        vertical-align: middle;\n",
       "    }\n",
       "\n",
       "    .dataframe tbody tr th {\n",
       "        vertical-align: top;\n",
       "    }\n",
       "\n",
       "    .dataframe thead th {\n",
       "        text-align: right;\n",
       "    }\n",
       "</style>\n",
       "<table border=\"1\" class=\"dataframe\">\n",
       "  <thead>\n",
       "    <tr style=\"text-align: right;\">\n",
       "      <th></th>\n",
       "      <th>Location</th>\n",
       "      <th>PopTotal</th>\n",
       "    </tr>\n",
       "  </thead>\n",
       "  <tbody>\n",
       "    <tr>\n",
       "      <th>0</th>\n",
       "      <td>Afghanistan</td>\n",
       "      <td>7752.117</td>\n",
       "    </tr>\n",
       "    <tr>\n",
       "      <th>1</th>\n",
       "      <td>Afghanistan</td>\n",
       "      <td>7840.151</td>\n",
       "    </tr>\n",
       "    <tr>\n",
       "      <th>2</th>\n",
       "      <td>Afghanistan</td>\n",
       "      <td>7935.996</td>\n",
       "    </tr>\n",
       "    <tr>\n",
       "      <th>3</th>\n",
       "      <td>Afghanistan</td>\n",
       "      <td>8039.684</td>\n",
       "    </tr>\n",
       "    <tr>\n",
       "      <th>4</th>\n",
       "      <td>Afghanistan</td>\n",
       "      <td>8151.316</td>\n",
       "    </tr>\n",
       "    <tr>\n",
       "      <th>...</th>\n",
       "      <td>...</td>\n",
       "      <td>...</td>\n",
       "    </tr>\n",
       "    <tr>\n",
       "      <th>280927</th>\n",
       "      <td>Zimbabwe</td>\n",
       "      <td>21836.893</td>\n",
       "    </tr>\n",
       "    <tr>\n",
       "      <th>280928</th>\n",
       "      <td>Zimbabwe</td>\n",
       "      <td>21355.988</td>\n",
       "    </tr>\n",
       "    <tr>\n",
       "      <th>280929</th>\n",
       "      <td>Zimbabwe</td>\n",
       "      <td>20689.956</td>\n",
       "    </tr>\n",
       "    <tr>\n",
       "      <th>280930</th>\n",
       "      <td>Zimbabwe</td>\n",
       "      <td>19892.080</td>\n",
       "    </tr>\n",
       "    <tr>\n",
       "      <th>280931</th>\n",
       "      <td>Zimbabwe</td>\n",
       "      <td>19061.177</td>\n",
       "    </tr>\n",
       "  </tbody>\n",
       "</table>\n",
       "<p>280932 rows × 2 columns</p>\n",
       "</div>"
      ],
      "text/plain": [
       "           Location   PopTotal\n",
       "0       Afghanistan   7752.117\n",
       "1       Afghanistan   7840.151\n",
       "2       Afghanistan   7935.996\n",
       "3       Afghanistan   8039.684\n",
       "4       Afghanistan   8151.316\n",
       "...             ...        ...\n",
       "280927     Zimbabwe  21836.893\n",
       "280928     Zimbabwe  21355.988\n",
       "280929     Zimbabwe  20689.956\n",
       "280930     Zimbabwe  19892.080\n",
       "280931     Zimbabwe  19061.177\n",
       "\n",
       "[280932 rows x 2 columns]"
      ]
     },
     "execution_count": 12,
     "metadata": {},
     "output_type": "execute_result"
    }
   ],
   "source": [
    "#Extracting only location and Total population for each country and store in new dataframe\n",
    "Tot_pop = pd.DataFrame(df_pop,columns=['Location','PopTotal'])\n",
    "Tot_pop"
   ]
  },
  {
   "cell_type": "markdown",
   "metadata": {},
   "source": [
    "As the  data in the file is state or territory wise so we will group the data on country basis and store it in new dataframe"
   ]
  },
  {
   "cell_type": "code",
   "execution_count": 13,
   "metadata": {},
   "outputs": [
    {
     "data": {
      "text/html": [
       "<div>\n",
       "<style scoped>\n",
       "    .dataframe tbody tr th:only-of-type {\n",
       "        vertical-align: middle;\n",
       "    }\n",
       "\n",
       "    .dataframe tbody tr th {\n",
       "        vertical-align: top;\n",
       "    }\n",
       "\n",
       "    .dataframe thead th {\n",
       "        text-align: right;\n",
       "    }\n",
       "</style>\n",
       "<table border=\"1\" class=\"dataframe\">\n",
       "  <thead>\n",
       "    <tr style=\"text-align: right;\">\n",
       "      <th></th>\n",
       "      <th>country</th>\n",
       "      <th>PopTotal</th>\n",
       "    </tr>\n",
       "  </thead>\n",
       "  <tbody>\n",
       "    <tr>\n",
       "      <th>0</th>\n",
       "      <td>Afghanistan</td>\n",
       "      <td>63,768,456</td>\n",
       "    </tr>\n",
       "    <tr>\n",
       "      <th>1</th>\n",
       "      <td>Africa</td>\n",
       "      <td>2,486,424,382</td>\n",
       "    </tr>\n",
       "    <tr>\n",
       "      <th>2</th>\n",
       "      <td>African Group</td>\n",
       "      <td>275,355,065</td>\n",
       "    </tr>\n",
       "    <tr>\n",
       "      <th>3</th>\n",
       "      <td>African Union</td>\n",
       "      <td>275,455,527</td>\n",
       "    </tr>\n",
       "    <tr>\n",
       "      <th>4</th>\n",
       "      <td>African Union: Central Africa</td>\n",
       "      <td>36,332,725</td>\n",
       "    </tr>\n",
       "  </tbody>\n",
       "</table>\n",
       "</div>"
      ],
      "text/plain": [
       "                         country      PopTotal\n",
       "0                    Afghanistan    63,768,456\n",
       "1                         Africa 2,486,424,382\n",
       "2                  African Group   275,355,065\n",
       "3                  African Union   275,455,527\n",
       "4  African Union: Central Africa    36,332,725"
      ]
     },
     "execution_count": 13,
     "metadata": {},
     "output_type": "execute_result"
    }
   ],
   "source": [
    "Tot_pop=Tot_pop.replace(\"United States of America\",\"US\")\n",
    "totalpop = Tot_pop.groupby('Location',group_keys=False).sum().reset_index().rename(columns={'Location':'country'})\n",
    "pd.options.display.float_format = '{:,.0f}'.format\n",
    "df_pop=pd.DataFrame(totalpop)\n",
    "\n",
    "df_pop.head()"
   ]
  },
  {
   "cell_type": "markdown",
   "metadata": {},
   "source": [
    "We will sum the total cases for each country and store the data in the new dataframe"
   ]
  },
  {
   "cell_type": "code",
   "execution_count": 14,
   "metadata": {
    "scrolled": true
   },
   "outputs": [
    {
     "data": {
      "text/html": [
       "<div>\n",
       "<style scoped>\n",
       "    .dataframe tbody tr th:only-of-type {\n",
       "        vertical-align: middle;\n",
       "    }\n",
       "\n",
       "    .dataframe tbody tr th {\n",
       "        vertical-align: top;\n",
       "    }\n",
       "\n",
       "    .dataframe thead th {\n",
       "        text-align: right;\n",
       "    }\n",
       "</style>\n",
       "<table border=\"1\" class=\"dataframe\">\n",
       "  <thead>\n",
       "    <tr style=\"text-align: right;\">\n",
       "      <th></th>\n",
       "      <th>country</th>\n",
       "      <th>totalcases</th>\n",
       "    </tr>\n",
       "  </thead>\n",
       "  <tbody>\n",
       "    <tr>\n",
       "      <th>0</th>\n",
       "      <td>Afghanistan</td>\n",
       "      <td>5226</td>\n",
       "    </tr>\n",
       "    <tr>\n",
       "      <th>1</th>\n",
       "      <td>Albania</td>\n",
       "      <td>880</td>\n",
       "    </tr>\n",
       "    <tr>\n",
       "      <th>2</th>\n",
       "      <td>Algeria</td>\n",
       "      <td>6253</td>\n",
       "    </tr>\n",
       "    <tr>\n",
       "      <th>3</th>\n",
       "      <td>Andorra</td>\n",
       "      <td>760</td>\n",
       "    </tr>\n",
       "    <tr>\n",
       "      <th>4</th>\n",
       "      <td>Angola</td>\n",
       "      <td>45</td>\n",
       "    </tr>\n",
       "  </tbody>\n",
       "</table>\n",
       "</div>"
      ],
      "text/plain": [
       "       country  totalcases\n",
       "0  Afghanistan        5226\n",
       "1      Albania         880\n",
       "2      Algeria        6253\n",
       "3      Andorra         760\n",
       "4       Angola          45"
      ]
     },
     "execution_count": 14,
     "metadata": {},
     "output_type": "execute_result"
    }
   ],
   "source": [
    "grpd=pd.DataFrame(grouped)\n",
    "grpd['totalcases']=grpd.groupby(['Country/Region'],as_index=False)['5/13/20'].transform('sum')\n",
    "covidcases=pd.DataFrame(grpd,columns=['totalcases']).reset_index().rename(columns={'Country/Region':'country'})\n",
    "covidcases.head()"
   ]
  },
  {
   "cell_type": "code",
   "execution_count": 15,
   "metadata": {},
   "outputs": [
    {
     "data": {
      "text/html": [
       "<div>\n",
       "<style scoped>\n",
       "    .dataframe tbody tr th:only-of-type {\n",
       "        vertical-align: middle;\n",
       "    }\n",
       "\n",
       "    .dataframe tbody tr th {\n",
       "        vertical-align: top;\n",
       "    }\n",
       "\n",
       "    .dataframe thead th {\n",
       "        text-align: right;\n",
       "    }\n",
       "</style>\n",
       "<table border=\"1\" class=\"dataframe\">\n",
       "  <thead>\n",
       "    <tr style=\"text-align: right;\">\n",
       "      <th></th>\n",
       "      <th>country</th>\n",
       "      <th>PopTotal</th>\n",
       "      <th>totalcases</th>\n",
       "    </tr>\n",
       "  </thead>\n",
       "  <tbody>\n",
       "    <tr>\n",
       "      <th>0</th>\n",
       "      <td>Afghanistan</td>\n",
       "      <td>63,768,456</td>\n",
       "      <td>5226</td>\n",
       "    </tr>\n",
       "    <tr>\n",
       "      <th>1</th>\n",
       "      <td>Albania</td>\n",
       "      <td>2,051,488</td>\n",
       "      <td>880</td>\n",
       "    </tr>\n",
       "    <tr>\n",
       "      <th>2</th>\n",
       "      <td>Algeria</td>\n",
       "      <td>54,028,510</td>\n",
       "      <td>6253</td>\n",
       "    </tr>\n",
       "    <tr>\n",
       "      <th>3</th>\n",
       "      <td>Andorra</td>\n",
       "      <td>60,246</td>\n",
       "      <td>760</td>\n",
       "    </tr>\n",
       "    <tr>\n",
       "      <th>4</th>\n",
       "      <td>Angola</td>\n",
       "      <td>84,885,830</td>\n",
       "      <td>45</td>\n",
       "    </tr>\n",
       "  </tbody>\n",
       "</table>\n",
       "</div>"
      ],
      "text/plain": [
       "       country   PopTotal  totalcases\n",
       "0  Afghanistan 63,768,456        5226\n",
       "1      Albania  2,051,488         880\n",
       "2      Algeria 54,028,510        6253\n",
       "3      Andorra     60,246         760\n",
       "4       Angola 84,885,830          45"
      ]
     },
     "execution_count": 15,
     "metadata": {},
     "output_type": "execute_result"
    }
   ],
   "source": [
    "#Merge the two dataset into one dataset and store it in new dataframe.\n",
    "covid_pop=pd.merge(df_pop, covidcases, how='inner', on='country', left_on=None, right_on=None,\n",
    "         left_index=False, right_index=False, sort=True,\n",
    "         suffixes=('_x', '_y'), copy=True, indicator=False,\n",
    "         validate=None)\n",
    "covid_pop.head()"
   ]
  },
  {
   "cell_type": "code",
   "execution_count": 16,
   "metadata": {},
   "outputs": [
    {
     "name": "stdout",
     "output_type": "stream",
     "text": [
      "            country    PopTotal  totalcases  cases/pop\n",
      "131      San Marino      27,248         643     23,598\n",
      "68         Holy See         666          12     18,011\n",
      "3           Andorra      60,246         760     12,615\n",
      "125           Qatar   3,030,240       26539      8,758\n",
      "144           Spain  35,585,924      228691      6,426\n",
      "92       Luxembourg     662,960        3904      5,889\n",
      "71          Iceland     316,927        1802      5,686\n",
      "16          Belgium  10,429,193       53981      5,176\n",
      "138       Singapore   5,079,757       25346      4,990\n",
      "77            Italy  45,058,408      222104      4,929\n",
      "75          Ireland   4,761,253       23401      4,915\n",
      "157              US 325,072,549     1390406      4,277\n",
      "124        Portugal   7,603,680       28132      3,700\n",
      "149     Switzerland   8,276,694       30413      3,675\n",
      "161  United Kingdom  63,317,303      230985      3,648\n",
      "15          Belarus   7,430,888       25825      3,475\n",
      "12          Bahrain   1,830,307        5816      3,178\n",
      "55           France  57,706,539      178184      3,088\n",
      "109     Netherlands  14,529,378       43410      2,988\n",
      "148          Sweden   9,842,707       27909      2,836\n"
     ]
    }
   ],
   "source": [
    "#Calculate the total number of cases per million for each country\n",
    "for i in range(len(covid_pop)):\n",
    "    covid_pop['cases/pop']=((covid_pop['totalcases']/(covid_pop['PopTotal']))*1000000)\n",
    "print(covid_pop.sort_values(by = 'cases/pop', ascending=False).head(20))"
   ]
  },
  {
   "cell_type": "code",
   "execution_count": 17,
   "metadata": {},
   "outputs": [
    {
     "data": {
      "text/plain": [
       "<seaborn.axisgrid.FacetGrid at 0x246b8df5848>"
      ]
     },
     "execution_count": 17,
     "metadata": {},
     "output_type": "execute_result"
    },
    {
     "data": {
      "text/plain": [
       "<Figure size 3600x1800 with 0 Axes>"
      ]
     },
     "metadata": {},
     "output_type": "display_data"
    },
    {
     "data": {
      "image/png": "[encoded data removed]",
      "text/plain": [
       "<Figure size 360x360 with 1 Axes>"
      ]
     },
     "metadata": {
      "needs_background": "light"
     },
     "output_type": "display_data"
    }
   ],
   "source": [
    "plt.figure(figsize=(50,25))\n",
    "sns.catplot(x=\"country\", y=\"cases/pop\", kind=\"bar\", data=covid_pop.tail(5))"
   ]
  },
  {
   "cell_type": "markdown",
   "metadata": {},
   "source": [
    "## A Predictive Model\n",
    "\n",
    "From our above analysis we can find that the graph follow exponential pattern.An exponential curve has the equation $y = e^{mx}$. It can be converted to a linear relationship by taking the logarithm of each side: $log(y) = mx$.  This means that we can fit a linear regression model to the data as long as we take the log of the number of cases.\n",
    "\n",
    "So, to build Linear regression model, we will select a country that has maximum number of coronovirus cases and then predict the log of number of cases.We will train our model on one of country data and test of model on another country of data.\n",
    "\n",
    "So, by using that metric we can find out which country has control the spread of virus and which country is still not able to control it."
   ]
  },
  {
   "cell_type": "markdown",
   "metadata": {},
   "source": [
    "We have selected one Country like US and build a linear regression model to predict the log of number of cases"
   ]
  },
  {
   "cell_type": "code",
   "execution_count": 18,
   "metadata": {},
   "outputs": [],
   "source": [
    "X=np.arange(len(grouped.loc['US'])).reshape(-1,1)"
   ]
  },
  {
   "cell_type": "code",
   "execution_count": 19,
   "metadata": {},
   "outputs": [
    {
     "data": {
      "text/plain": [
       "(124,)"
      ]
     },
     "execution_count": 19,
     "metadata": {},
     "output_type": "execute_result"
    }
   ],
   "source": [
    "# Store the value of log(X)in y\n",
    "y=grouped.loc['US'].values\n",
    "y.shape"
   ]
  },
  {
   "cell_type": "code",
   "execution_count": 20,
   "metadata": {},
   "outputs": [],
   "source": [
    "y=y.reshape(-1,1)"
   ]
  },
  {
   "cell_type": "code",
   "execution_count": 21,
   "metadata": {
    "scrolled": true
   },
   "outputs": [],
   "source": [
    "model=LinearRegression(fit_intercept=True, normalize=True)\n",
    "model.fit(X,np.log(y))\n",
    "Y_predict=np.exp(model.predict(X))"
   ]
  },
  {
   "cell_type": "markdown",
   "metadata": {},
   "source": [
    "We have plot two graph below.First graph is the number of cases on each day of US.Second graph is to plot the log of number of cases for US"
   ]
  },
  {
   "cell_type": "code",
   "execution_count": 22,
   "metadata": {
    "scrolled": true
   },
   "outputs": [
    {
     "data": {
      "text/plain": [
       "<function matplotlib.pyplot.show(*args, **kw)>"
      ]
     },
     "execution_count": 22,
     "metadata": {},
     "output_type": "execute_result"
    },
    {
     "data": {
      "image/png": "[encoded data removed]",
      "text/plain": [
       "<Figure size 1080x360 with 2 Axes>"
      ]
     },
     "metadata": {
      "needs_background": "light"
     },
     "output_type": "display_data"
    }
   ],
   "source": [
    "plt.figure(figsize=(15,5))\n",
    "plt.subplot(1,2,1)\n",
    "plt.plot(y)\n",
    "plt.plot(Y_predict)\n",
    "plt.ylabel('Total number of cases')\n",
    "plt.xlabel('days')\n",
    "plt.legend(['Actual','predicted'])\n",
    "plt.show\n",
    "\n",
    "plt.subplot(1,2,2)\n",
    "plt.plot(y)\n",
    "plt.plot(Y_predict)\n",
    "plt.ylabel('Total number of cases')\n",
    "plt.xlabel('days')\n",
    "plt.yscale('log')\n",
    "plt.legend(['Actual','predicted'])\n",
    "plt.show"
   ]
  },
  {
   "cell_type": "markdown",
   "metadata": {},
   "source": [
    "In the above graph, we plot two graph,one graph shows the the numerical increase the number of cases in US and the other graph shows the exponential increase in the number of cases of US"
   ]
  },
  {
   "cell_type": "markdown",
   "metadata": {},
   "source": [
    "Now,we will test our model on China covid cases.We will use Train dataset to predict the exponential increase of cases in China."
   ]
  },
  {
   "cell_type": "code",
   "execution_count": 23,
   "metadata": {},
   "outputs": [],
   "source": [
    "Y_china=(grouped.loc['China'].values)\n",
    "from sklearn.linear_model import LinearRegression\n",
    "mod=LinearRegression()\n",
    "mod.fit(X,np.log(Y_china))\n",
    "Y_pred=np.exp(mod.predict(X))"
   ]
  },
  {
   "cell_type": "markdown",
   "metadata": {},
   "source": [
    "Again,we have plot two graph below.First graph is the number of cases on each day of China.Second graph is to plot the log of number of cases for China"
   ]
  },
  {
   "cell_type": "code",
   "execution_count": 24,
   "metadata": {},
   "outputs": [
    {
     "data": {
      "text/plain": [
       "<function matplotlib.pyplot.show(*args, **kw)>"
      ]
     },
     "execution_count": 24,
     "metadata": {},
     "output_type": "execute_result"
    },
    {
     "data": {
      "image/png": "[encoded data removed]",
      "text/plain": [
       "<Figure size 1440x360 with 2 Axes>"
      ]
     },
     "metadata": {
      "needs_background": "light"
     },
     "output_type": "display_data"
    }
   ],
   "source": [
    "plt.figure(figsize=(20,5))\n",
    "plt.subplot(1,2,1)\n",
    "plt.plot(y)\n",
    "plt.plot(Y_pred)\n",
    "plt.ylabel('Total number of cases')\n",
    "plt.xlabel('days')\n",
    "plt.legend(['Actual','predicted'])\n",
    "plt.show\n",
    "\n",
    "plt.subplot(1,2,2)\n",
    "plt.plot(y)\n",
    "plt.plot(Y_pred)\n",
    "plt.ylabel('Total number of cases')\n",
    "plt.xlabel('days')\n",
    "plt.yscale('log')\n",
    "plt.legend(['Actual','predicted'])\n",
    "plt.show"
   ]
  },
  {
   "cell_type": "markdown",
   "metadata": {},
   "source": [
    "Now , we have tested our model on the limited number of day for China.Again we fir our model on the basis of number days and\n",
    "and can see the If China had not acted to stop the virus, there number of cases can exceed the number of cases of US"
   ]
  },
  {
   "cell_type": "code",
   "execution_count": 26,
   "metadata": {},
   "outputs": [
    {
     "data": {
      "text/plain": [
       "<function matplotlib.pyplot.show(*args, **kw)>"
      ]
     },
     "execution_count": 26,
     "metadata": {},
     "output_type": "execute_result"
    },
    {
     "data": {
      "image/png": "[encoded data removed]",
      "text/plain": [
       "<Figure size 1440x360 with 2 Axes>"
      ]
     },
     "metadata": {
      "needs_background": "light"
     },
     "output_type": "display_data"
    }
   ],
   "source": [
    "est=LinearRegression()\n",
    "est.fit(X[:30],np.log(Y_china[:30]))\n",
    "Y_pred_China=np.exp(est.predict(X))\n",
    "\n",
    "plt.figure(figsize=(20,5))\n",
    "plt.subplot(1,2,1)\n",
    "plt.plot(Y_china)\n",
    "plt.plot(Y_pred_China)\n",
    "plt.ylabel('Total number of cases')\n",
    "plt.xlabel('days')\n",
    "plt.legend(['Actual','predicted'])\n",
    "plt.show\n",
    "\n",
    "plt.subplot(1,2,2)\n",
    "plt.plot(Y_china)\n",
    "plt.plot(Y_pred_China)\n",
    "plt.ylabel('Total number of cases')\n",
    "plt.xlabel('days')\n",
    "plt.legend(['Actual','predicted'])\n",
    "plt.yscale('log')\n",
    "plt.show"
   ]
  },
  {
   "cell_type": "markdown",
   "metadata": {},
   "source": [
    "In the above, test our model for just 20 number of days for China, and can see that that if China does not take any measure their value can cross more than a millio today but after some days , they just take some good measures and cases is decreases."
   ]
  },
  {
   "cell_type": "markdown",
   "metadata": {},
   "source": [
    "# Conclusion"
   ]
  },
  {
   "cell_type": "markdown",
   "metadata": {},
   "source": [
    "Our above portfolio is bases on the spread of coronavirus cases in the world.We have use some techniques to analyse the dataset of the increasing number of cases in the world.\n",
    "From the above analysis, we can interpret that:-\n",
    "\n",
    "1.Coronavirus is deadly virus that is increases day by day, till now the only solution of this virus is social distancing as we can see from our model, the cases in China decreases when they adopt social distancing measure.\n",
    "\n",
    "2.We have also compared the cases on Country based and find out which Country has maximum number of per million cases.We have used Normalization technique and can see that US has maximum number of cases toady but they have minimum per million cases.So we can say that the country that has more population will have minimum per million cases to the country that have minimum population has maximum per million cases."
   ]
  }
 ],
 "metadata": {
  "kernelspec": {
   "display_name": "Python 3",
   "language": "python",
   "name": "python3"
  },
  "language_info": {
   "codemirror_mode": {
    "name": "ipython",
    "version": 3
   },
   "file_extension": ".py",
   "mimetype": "text/x-python",
   "name": "python",
   "nbconvert_exporter": "python",
   "pygments_lexer": "ipython3",
   "version": "3.7.6"
  }
 },
 "nbformat": 4,
 "nbformat_minor": 2
}
